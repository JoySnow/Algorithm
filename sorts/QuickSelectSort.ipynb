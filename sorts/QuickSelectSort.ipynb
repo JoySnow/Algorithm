{
 "cells": [
  {
   "cell_type": "code",
   "execution_count": 44,
   "metadata": {
    "collapsed": false
   },
   "outputs": [
    {
     "name": "stdout",
     "output_type": "stream",
     "text": [
      "3\n",
      "6\n",
      "4\n"
     ]
    }
   ],
   "source": [
    "\n",
    "def partation(a, p, q):\n",
    "    \n",
    "    if p== q:\n",
    "        return p\n",
    "    elif p > q:\n",
    "        return -1\n",
    "\n",
    "    #a = copy(s)\n",
    "    pivot = a[p]\n",
    "    i = p+1\n",
    "    #j = len(a)-1\n",
    "    j = q\n",
    "    while True:\n",
    "        # step 1\n",
    "        while j>p and a[j] >= pivot:\n",
    "            j -= 1\n",
    "        while i<q and a[i] <= pivot:\n",
    "            i += 1\n",
    "        if i<j:\n",
    "            a[i], a[j] = a[j], a[i]\n",
    "            j -= 1\n",
    "            i += 1\n",
    "        else:\n",
    "            a[p], a[j] = a[j], a[p]\n",
    "            return j\n",
    "    \n",
    "s1 = [5,9,8,3,7,1,4]\n",
    "print partation(s1, 0, 6)\n",
    "\n",
    "\n",
    "s2 = [11,9,8,3,7,1,4]\n",
    "print partation(s2, 0, 6)\n",
    "#print partation(s, 0, 7)\n",
    "\n",
    "s3 = [3, 4, 1, 5, 7, 8, 9]\n",
    "print partation(s3, 4, 6)"
   ]
  },
  {
   "cell_type": "code",
   "execution_count": 45,
   "metadata": {
    "collapsed": false
   },
   "outputs": [],
   "source": [
    "def quick_select_sort(s, p, q, k):\n",
    "    if not 0 < k <= q-p+1:\n",
    "        print \"check fail?\"\n",
    "        return \"Invalid k\"\n",
    "    pivot = partation(s, p, q)\n",
    "    len_pivot_left = pivot+1-p #contain pivot\n",
    "    if len_pivot_left == k:\n",
    "        return s[pivot]\n",
    "    elif len_pivot_left < k:\n",
    "        return quick_select_sort(s, p+len_pivot_left, q, k-len_pivot_left)\n",
    "    else:\n",
    "        return quick_select_sort(s, p, pivot-1, k)\n",
    "    \n",
    "s = [5,9,8,3,7,1,4]           \n",
    "#print quick_select_sort(s, 0, len(s)-1, 4) # should be 5\n",
    "\n",
    "vl = [1,3,4,5,7,8,9]\n",
    "for i in xrange(1, 8):\n",
    "    s = [5,9,8,3,7,1,4]     \n",
    "    out = quick_select_sort(s, 0, len(s)-1, i)\n",
    "    assert out == vl[i-1]"
   ]
  },
  {
   "cell_type": "code",
   "execution_count": 10,
   "metadata": {
    "collapsed": false
   },
   "outputs": [
    {
     "name": "stdout",
     "output_type": "stream",
     "text": [
      "3\n"
     ]
    },
    {
     "ename": "KeyboardInterrupt",
     "evalue": "",
     "output_type": "error",
     "traceback": [
      "\u001b[0;31m---------------------------------------------------------------------------\u001b[0m",
      "\u001b[0;31mKeyboardInterrupt\u001b[0m                         Traceback (most recent call last)",
      "\u001b[0;32m<ipython-input-10-523804b1a14d>\u001b[0m in \u001b[0;36m<module>\u001b[0;34m()\u001b[0m\n\u001b[1;32m     19\u001b[0m \u001b[0;34m\u001b[0m\u001b[0m\n\u001b[1;32m     20\u001b[0m \u001b[0ms2\u001b[0m \u001b[0;34m=\u001b[0m \u001b[0;34m[\u001b[0m\u001b[0;36m11\u001b[0m\u001b[0;34m,\u001b[0m\u001b[0;36m9\u001b[0m\u001b[0;34m,\u001b[0m\u001b[0;36m8\u001b[0m\u001b[0;34m,\u001b[0m\u001b[0;36m3\u001b[0m\u001b[0;34m,\u001b[0m\u001b[0;36m7\u001b[0m\u001b[0;34m,\u001b[0m\u001b[0;36m1\u001b[0m\u001b[0;34m,\u001b[0m\u001b[0;36m4\u001b[0m\u001b[0;34m]\u001b[0m\u001b[0;34m\u001b[0m\u001b[0m\n\u001b[0;32m---> 21\u001b[0;31m \u001b[0;32mprint\u001b[0m \u001b[0mHoarePartation\u001b[0m\u001b[0;34m(\u001b[0m\u001b[0ms2\u001b[0m\u001b[0;34m,\u001b[0m \u001b[0;36m0\u001b[0m\u001b[0;34m,\u001b[0m \u001b[0;36m7\u001b[0m\u001b[0;34m)\u001b[0m\u001b[0;34m\u001b[0m\u001b[0m\n\u001b[0m\u001b[1;32m     22\u001b[0m \u001b[0;31m#print partation(s, 0, 7)\u001b[0m\u001b[0;34m\u001b[0m\u001b[0;34m\u001b[0m\u001b[0m\n",
      "\u001b[0;32m<ipython-input-10-523804b1a14d>\u001b[0m in \u001b[0;36mHoarePartation\u001b[0;34m(A, l, h)\u001b[0m\n\u001b[1;32m      8\u001b[0m         \u001b[0;32mwhile\u001b[0m \u001b[0mj\u001b[0m\u001b[0;34m>\u001b[0m\u001b[0ml\u001b[0m \u001b[0;32mand\u001b[0m \u001b[0mA\u001b[0m\u001b[0;34m[\u001b[0m\u001b[0mj\u001b[0m\u001b[0;34m]\u001b[0m \u001b[0;34m>\u001b[0m \u001b[0mp\u001b[0m\u001b[0;34m:\u001b[0m\u001b[0;34m\u001b[0m\u001b[0m\n\u001b[1;32m      9\u001b[0m             \u001b[0mj\u001b[0m \u001b[0;34m-=\u001b[0m \u001b[0;36m1\u001b[0m\u001b[0;34m\u001b[0m\u001b[0m\n\u001b[0;32m---> 10\u001b[0;31m         \u001b[0mA\u001b[0m\u001b[0;34m[\u001b[0m\u001b[0mi\u001b[0m\u001b[0;34m]\u001b[0m\u001b[0;34m,\u001b[0m \u001b[0mA\u001b[0m\u001b[0;34m[\u001b[0m\u001b[0mj\u001b[0m\u001b[0;34m]\u001b[0m \u001b[0;34m=\u001b[0m \u001b[0mA\u001b[0m\u001b[0;34m[\u001b[0m\u001b[0mj\u001b[0m\u001b[0;34m]\u001b[0m\u001b[0;34m,\u001b[0m \u001b[0mA\u001b[0m\u001b[0;34m[\u001b[0m\u001b[0mi\u001b[0m\u001b[0;34m]\u001b[0m\u001b[0;34m\u001b[0m\u001b[0m\n\u001b[0m\u001b[1;32m     11\u001b[0m \u001b[0;34m\u001b[0m\u001b[0m\n\u001b[1;32m     12\u001b[0m     \u001b[0mA\u001b[0m\u001b[0;34m[\u001b[0m\u001b[0mi\u001b[0m\u001b[0;34m]\u001b[0m\u001b[0;34m,\u001b[0m \u001b[0mA\u001b[0m\u001b[0;34m[\u001b[0m\u001b[0mj\u001b[0m\u001b[0;34m]\u001b[0m \u001b[0;34m=\u001b[0m \u001b[0mA\u001b[0m\u001b[0;34m[\u001b[0m\u001b[0mj\u001b[0m\u001b[0;34m]\u001b[0m\u001b[0;34m,\u001b[0m \u001b[0mA\u001b[0m\u001b[0;34m[\u001b[0m\u001b[0mi\u001b[0m\u001b[0;34m]\u001b[0m\u001b[0;34m\u001b[0m\u001b[0m\n",
      "\u001b[0;31mKeyboardInterrupt\u001b[0m: "
     ]
    }
   ],
   "source": [
    "def HoarePartation(A, l, h):\n",
    "    i = l + 1\n",
    "    j = h - 1\n",
    "    p = A[l]\n",
    "    while i <= j:\n",
    "        while i<h-1 and A[i] < p:\n",
    "            i += 1\n",
    "        while j>l and A[j] > p:\n",
    "            j -= 1\n",
    "        A[i], A[j] = A[j], A[i]\n",
    "\n",
    "    A[i], A[j] = A[j], A[i]\n",
    "    A[l], A[j] = A[j], A[l]\n",
    "    return j\n",
    "\n",
    "\n",
    "s1 = [5,9,8,3,7,1,4]\n",
    "print HoarePartation(s1, 0, 7)\n",
    "\n",
    "s2 = [11,9,8,3,7,1,4]\n",
    "print HoarePartation(s2, 0, 7)\n",
    "#print partation(s, 0, 7)"
   ]
  },
  {
   "cell_type": "code",
   "execution_count": 7,
   "metadata": {
    "collapsed": false
   },
   "outputs": [
    {
     "name": "stdout",
     "output_type": "stream",
     "text": [
      "=== Start in partation ===\n",
      "i =  0\n",
      "i, j:  1 6\n",
      "show a:  [5, 4, 8, 3, 7, 1, 9]\n",
      "i =  1\n",
      "i, j:  2 5\n",
      "show a:  [5, 4, 1, 3, 7, 8, 9]\n",
      "i =  2\n",
      "i, j:  4 3\n",
      "before return show a:  [3, 4, 1, 5, 7, 8, 9]\n",
      "3\n",
      "=== Start in partation ===\n",
      "i =  0\n",
      "i, j:  6 6\n",
      "before return show a:  [4, 9, 8, 3, 7, 1, 11]\n",
      "6\n"
     ]
    }
   ],
   "source": []
  },
  {
   "cell_type": "code",
   "execution_count": null,
   "metadata": {
    "collapsed": true
   },
   "outputs": [],
   "source": []
  },
  {
   "cell_type": "code",
   "execution_count": null,
   "metadata": {
    "collapsed": true
   },
   "outputs": [],
   "source": []
  },
  {
   "cell_type": "code",
   "execution_count": null,
   "metadata": {
    "collapsed": true
   },
   "outputs": [],
   "source": []
  }
 ],
 "metadata": {
  "kernelspec": {
   "display_name": "Python 2",
   "language": "python",
   "name": "python2"
  },
  "language_info": {
   "codemirror_mode": {
    "name": "ipython",
    "version": 2
   },
   "file_extension": ".py",
   "mimetype": "text/x-python",
   "name": "python",
   "nbconvert_exporter": "python",
   "pygments_lexer": "ipython2",
   "version": "2.7.5"
  }
 },
 "nbformat": 4,
 "nbformat_minor": 0
}
