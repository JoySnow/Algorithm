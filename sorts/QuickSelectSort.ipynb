{
 "cells": [
  {
   "cell_type": "code",
   "execution_count": 1,
   "metadata": {
    "collapsed": false
   },
   "outputs": [
    {
     "name": "stdout",
     "output_type": "stream",
     "text": [
      "=== Start in partation ===\n",
      "i =  0\n",
      "i =  1\n",
      "i =  2\n",
      "i =  3\n",
      "a =  [5, 4, 1, 3, 7, 8, 9]\n",
      "aa =  [3, 4, 1, 5, 7, 8, 9]\n",
      "=== end of partation ===\n",
      "3\n",
      "=== Start in partation ===\n",
      "i =  0\n",
      "i =  1\n",
      "i =  2\n",
      "i =  3\n",
      "i =  4\n",
      "i =  5\n",
      "a =  [11, 9, 8, 3, 7, 1, 4]\n",
      "aa =  [1, 9, 8, 3, 7, 11, 4]\n",
      "=== end of partation ===\n",
      "5\n"
     ]
    }
   ],
   "source": [
    "\n",
    "def partation(a, p, q):\n",
    "    \"\"\"\n",
    "    Use a[p] as pivot to partation a[p,q-1].\n",
    "    Return the index of pivot value.\n",
    "    \n",
    "    i, j = p+1, q\n",
    "    1. find a[j] < pivot as lt;(if not found, return p)\n",
    "    2. find a[i] > pivot as gt;\n",
    "    3. swap a[i] & a[j];\n",
    "    4. loop for 1~3\n",
    "    5. when j==i+1:\n",
    "    5.1. if lt left, swap(pivot, lt)\n",
    "    5.2. if nothing left(lt&gt are all paired), swap(pivot, last gt)\n",
    "    \"\"\"\n",
    "    print \"=== Start in partation ===\" \n",
    "    \n",
    "    if p+1 == q:\n",
    "        return p\n",
    "    elif p >= q:\n",
    "        return -1\n",
    "    #what if p+2=q, eg [9,8] or [8,9]\n",
    "    \n",
    "    #a = copy(s)\n",
    "    pivot = p\n",
    "    i = p+1\n",
    "    #j = len(a)-1\n",
    "    j = q-p-1\n",
    "    while i<j:\n",
    "        print \"i = \", i\n",
    "        # step 1\n",
    "        if not a[j] < a[pivot]:\n",
    "            j -= 1\n",
    "            continue\n",
    "        else:\n",
    "            lt = j\n",
    "        # step 2\n",
    "        if not a[i] > a[pivot]:\n",
    "            a += 1\n",
    "            continue\n",
    "        else:\n",
    "            # step 3\n",
    "            a[i], a[j] = a[j], a[i]\n",
    "            j -= 1\n",
    "            i += 1\n",
    "    # step 5.2\n",
    "    if j+1 == i:\n",
    "    a[pivot], a[j] = a[j], a[pivot]\n",
    "    # step 5.1\n",
    "    a[pivot], a[j+1]\n",
    "    if i == j:\n",
    "    print \"a = \", a\n",
    "    a[pivot], a[i-1] = a[i-1], a[pivot]\n",
    "    print \"aa = \", a\n",
    "    print \"=== end of partation ===\" \n",
    "    # return the index of pivot value\n",
    "    return i-1\n",
    "    \n",
    "s1 = [5,9,8,3,7,1,4]\n",
    "print partation(s1, 0, 7)\n",
    "\n",
    "s2 = [11,9,8,3,7,1,4]\n",
    "print partation(s2, 0, 7)\n",
    "#print partation(s, 0, 7)"
   ]
  },
  {
   "cell_type": "code",
   "execution_count": 4,
   "metadata": {
    "collapsed": false
   },
   "outputs": [
    {
     "name": "stdout",
     "output_type": "stream",
     "text": [
      "=== Start in partation ===\n",
      "i =  0\n",
      "i =  1\n",
      "i =  2\n",
      "i =  3\n",
      "i =  4\n",
      "i =  5\n",
      "a =  [11, 9, 8, 3, 7, 1, 4]\n",
      "aa =  [1, 9, 8, 3, 7, 11, 4]\n",
      "=== end of partation ===\n",
      "kk < pivot\n",
      "=== Start in partation ===\n",
      "i =  0\n",
      "i =  1\n",
      "a =  [1, 3, 8, 9, 7, 11, 4]\n",
      "aa =  [3, 1, 8, 9, 7, 11, 4]\n",
      "=== end of partation ===\n",
      "kk > pivot+1\n",
      "=== Start in partation ===\n",
      "i =  2\n",
      "i =  3\n",
      "a =  [3, 1, 8, 7, 9, 11, 4]\n",
      "aa =  [3, 1, 7, 8, 9, 11, 4]\n",
      "=== end of partation ===\n",
      "kk < pivot\n",
      "=== Start in partation ===\n",
      "i =  0\n",
      "a =  [3, 1, 7, 8, 9, 11, 4]\n",
      "aa =  [3, 1, 7, 8, 9, 11, 4]\n",
      "=== end of partation ===\n",
      "kk > pivot+1\n",
      "=== Start in partation ===\n",
      "i =  1\n",
      "i =  2\n",
      "i =  3\n",
      "a =  [3, 1, 11, 9, 8, 7, 4]\n",
      "aa =  [3, 9, 11, 1, 8, 7, 4]\n",
      "=== end of partation ===\n",
      "kk < pivot\n",
      "=== Start in partation ===\n",
      "i =  0\n",
      "a =  [3, 9, 11, 1, 8, 7, 4]\n",
      "aa =  [3, 9, 11, 1, 8, 7, 4]\n",
      "=== end of partation ===\n",
      "kk == pivot+1\n",
      "pivot:  0\n",
      "3\n",
      "3\n"
     ]
    }
   ],
   "source": [
    "def quick_select_sort(s, k):\n",
    "    if not 0 <= k < len(s):\n",
    "        return \"Invalid k\"\n",
    "    #add a special handle for k==1\n",
    "    kk = k\n",
    "    pivot = 0\n",
    "    p, q = 0, len(s)\n",
    "    while 0 <= pivot < len(s):\n",
    "        pivot = partation(s, p, q)\n",
    "        if kk == pivot+1:\n",
    "            print \"kk == pivot+1\"\n",
    "            print \"pivot: \", pivot\n",
    "            print s[pivot]\n",
    "            break\n",
    "        elif kk > pivot+1:\n",
    "            print \"kk > pivot+1\"\n",
    "            p = pivot + 1\n",
    "            q = len(s)\n",
    "            kk -= pivot+1\n",
    "        else:\n",
    "            print \"kk < pivot\"\n",
    "            p = 0\n",
    "            q = pivot -1\n",
    "            \n",
    "    if 0 <= pivot < len(s): \n",
    "        return s[pivot]\n",
    "    else:\n",
    "        return None\n",
    "\n",
    "s = [11,9,8,3,7,1,4]           \n",
    "print quick_select_sort(s, 4)"
   ]
  },
  {
   "cell_type": "code",
   "execution_count": 10,
   "metadata": {
    "collapsed": false
   },
   "outputs": [
    {
     "name": "stdout",
     "output_type": "stream",
     "text": [
      "3\n"
     ]
    },
    {
     "ename": "KeyboardInterrupt",
     "evalue": "",
     "output_type": "error",
     "traceback": [
      "\u001b[0;31m---------------------------------------------------------------------------\u001b[0m",
      "\u001b[0;31mKeyboardInterrupt\u001b[0m                         Traceback (most recent call last)",
      "\u001b[0;32m<ipython-input-10-523804b1a14d>\u001b[0m in \u001b[0;36m<module>\u001b[0;34m()\u001b[0m\n\u001b[1;32m     19\u001b[0m \u001b[0;34m\u001b[0m\u001b[0m\n\u001b[1;32m     20\u001b[0m \u001b[0ms2\u001b[0m \u001b[0;34m=\u001b[0m \u001b[0;34m[\u001b[0m\u001b[0;36m11\u001b[0m\u001b[0;34m,\u001b[0m\u001b[0;36m9\u001b[0m\u001b[0;34m,\u001b[0m\u001b[0;36m8\u001b[0m\u001b[0;34m,\u001b[0m\u001b[0;36m3\u001b[0m\u001b[0;34m,\u001b[0m\u001b[0;36m7\u001b[0m\u001b[0;34m,\u001b[0m\u001b[0;36m1\u001b[0m\u001b[0;34m,\u001b[0m\u001b[0;36m4\u001b[0m\u001b[0;34m]\u001b[0m\u001b[0;34m\u001b[0m\u001b[0m\n\u001b[0;32m---> 21\u001b[0;31m \u001b[0;32mprint\u001b[0m \u001b[0mHoarePartation\u001b[0m\u001b[0;34m(\u001b[0m\u001b[0ms2\u001b[0m\u001b[0;34m,\u001b[0m \u001b[0;36m0\u001b[0m\u001b[0;34m,\u001b[0m \u001b[0;36m7\u001b[0m\u001b[0;34m)\u001b[0m\u001b[0;34m\u001b[0m\u001b[0m\n\u001b[0m\u001b[1;32m     22\u001b[0m \u001b[0;31m#print partation(s, 0, 7)\u001b[0m\u001b[0;34m\u001b[0m\u001b[0;34m\u001b[0m\u001b[0m\n",
      "\u001b[0;32m<ipython-input-10-523804b1a14d>\u001b[0m in \u001b[0;36mHoarePartation\u001b[0;34m(A, l, h)\u001b[0m\n\u001b[1;32m      8\u001b[0m         \u001b[0;32mwhile\u001b[0m \u001b[0mj\u001b[0m\u001b[0;34m>\u001b[0m\u001b[0ml\u001b[0m \u001b[0;32mand\u001b[0m \u001b[0mA\u001b[0m\u001b[0;34m[\u001b[0m\u001b[0mj\u001b[0m\u001b[0;34m]\u001b[0m \u001b[0;34m>\u001b[0m \u001b[0mp\u001b[0m\u001b[0;34m:\u001b[0m\u001b[0;34m\u001b[0m\u001b[0m\n\u001b[1;32m      9\u001b[0m             \u001b[0mj\u001b[0m \u001b[0;34m-=\u001b[0m \u001b[0;36m1\u001b[0m\u001b[0;34m\u001b[0m\u001b[0m\n\u001b[0;32m---> 10\u001b[0;31m         \u001b[0mA\u001b[0m\u001b[0;34m[\u001b[0m\u001b[0mi\u001b[0m\u001b[0;34m]\u001b[0m\u001b[0;34m,\u001b[0m \u001b[0mA\u001b[0m\u001b[0;34m[\u001b[0m\u001b[0mj\u001b[0m\u001b[0;34m]\u001b[0m \u001b[0;34m=\u001b[0m \u001b[0mA\u001b[0m\u001b[0;34m[\u001b[0m\u001b[0mj\u001b[0m\u001b[0;34m]\u001b[0m\u001b[0;34m,\u001b[0m \u001b[0mA\u001b[0m\u001b[0;34m[\u001b[0m\u001b[0mi\u001b[0m\u001b[0;34m]\u001b[0m\u001b[0;34m\u001b[0m\u001b[0m\n\u001b[0m\u001b[1;32m     11\u001b[0m \u001b[0;34m\u001b[0m\u001b[0m\n\u001b[1;32m     12\u001b[0m     \u001b[0mA\u001b[0m\u001b[0;34m[\u001b[0m\u001b[0mi\u001b[0m\u001b[0;34m]\u001b[0m\u001b[0;34m,\u001b[0m \u001b[0mA\u001b[0m\u001b[0;34m[\u001b[0m\u001b[0mj\u001b[0m\u001b[0;34m]\u001b[0m \u001b[0;34m=\u001b[0m \u001b[0mA\u001b[0m\u001b[0;34m[\u001b[0m\u001b[0mj\u001b[0m\u001b[0;34m]\u001b[0m\u001b[0;34m,\u001b[0m \u001b[0mA\u001b[0m\u001b[0;34m[\u001b[0m\u001b[0mi\u001b[0m\u001b[0;34m]\u001b[0m\u001b[0;34m\u001b[0m\u001b[0m\n",
      "\u001b[0;31mKeyboardInterrupt\u001b[0m: "
     ]
    }
   ],
   "source": [
    "def HoarePartation(A, l, h):\n",
    "    i = l + 1\n",
    "    j = h - 1\n",
    "    p = A[l]\n",
    "    while i <= j:\n",
    "        while i<h-1 and A[i] < p:\n",
    "            i += 1\n",
    "        while j>l and A[j] > p:\n",
    "            j -= 1\n",
    "        A[i], A[j] = A[j], A[i]\n",
    "\n",
    "    A[i], A[j] = A[j], A[i]\n",
    "    A[l], A[j] = A[j], A[l]\n",
    "    return j\n",
    "\n",
    "\n",
    "s1 = [5,9,8,3,7,1,4]\n",
    "print HoarePartation(s1, 0, 7)\n",
    "\n",
    "s2 = [11,9,8,3,7,1,4]\n",
    "print HoarePartation(s2, 0, 7)\n",
    "#print partation(s, 0, 7)"
   ]
  },
  {
   "cell_type": "code",
   "execution_count": 7,
   "metadata": {
    "collapsed": false
   },
   "outputs": [
    {
     "name": "stdout",
     "output_type": "stream",
     "text": [
      "=== Start in partation ===\n",
      "i =  0\n",
      "i, j:  1 6\n",
      "show a:  [5, 4, 8, 3, 7, 1, 9]\n",
      "i =  1\n",
      "i, j:  2 5\n",
      "show a:  [5, 4, 1, 3, 7, 8, 9]\n",
      "i =  2\n",
      "i, j:  4 3\n",
      "before return show a:  [3, 4, 1, 5, 7, 8, 9]\n",
      "3\n",
      "=== Start in partation ===\n",
      "i =  0\n",
      "i, j:  6 6\n",
      "before return show a:  [4, 9, 8, 3, 7, 1, 11]\n",
      "6\n"
     ]
    }
   ],
   "source": []
  },
  {
   "cell_type": "code",
   "execution_count": null,
   "metadata": {
    "collapsed": true
   },
   "outputs": [],
   "source": []
  },
  {
   "cell_type": "code",
   "execution_count": null,
   "metadata": {
    "collapsed": true
   },
   "outputs": [],
   "source": []
  },
  {
   "cell_type": "code",
   "execution_count": null,
   "metadata": {
    "collapsed": true
   },
   "outputs": [],
   "source": []
  }
 ],
 "metadata": {
  "kernelspec": {
   "display_name": "Python 2",
   "language": "python",
   "name": "python2"
  },
  "language_info": {
   "codemirror_mode": {
    "name": "ipython",
    "version": 2
   },
   "file_extension": ".py",
   "mimetype": "text/x-python",
   "name": "python",
   "nbconvert_exporter": "python",
   "pygments_lexer": "ipython2",
   "version": "2.7.5"
  }
 },
 "nbformat": 4,
 "nbformat_minor": 0
}
