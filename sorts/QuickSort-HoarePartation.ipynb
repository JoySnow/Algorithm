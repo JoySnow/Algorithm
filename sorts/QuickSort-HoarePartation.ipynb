{
 "cells": [
  {
   "cell_type": "code",
   "execution_count": 31,
   "metadata": {
    "collapsed": false
   },
   "outputs": [],
   "source": [
    "\n",
    "def HoarePartation(a, p, q):\n",
    "    \"\"\"\n",
    "    Use a[p] as pivot to partation a[p,q]. q-p >=1\n",
    "    Return the index of pivot value.\n",
    "    \"\"\"\n",
    "    if p == q:\n",
    "        return p\n",
    "    elif p >= q:\n",
    "        return -1\n",
    "    \n",
    "    pivot = p\n",
    "    i = p\n",
    "    j = q\n",
    "    while True:\n",
    "        # find the smaller item from right\n",
    "        while j>p and a[j] >= a[pivot]:\n",
    "            j -= 1\n",
    "        # find the bigger item from left\n",
    "        # this will skip p, since a[p]==a[pivot]\n",
    "        while i<q and a[i] <= a[pivot]:\n",
    "            i += 1\n",
    "        # swap i and j\n",
    "        if i<j:\n",
    "            a[i], a[j] = a[j], a[i]\n",
    "            j -= 1\n",
    "            i += 1\n",
    "        # j is the final pivot\n",
    "        else:\n",
    "            a[p], a[j] = a[j], a[p]\n",
    "            return j"
   ]
  },
  {
   "cell_type": "code",
   "execution_count": 34,
   "metadata": {
    "collapsed": false
   },
   "outputs": [],
   "source": [
    "def QuickSort(a, p, q):\n",
    "    pivot = HoarePartation(a, p, q)\n",
    "    if not p <= pivot <= q:\n",
    "        return\n",
    "    if p < pivot-1:\n",
    "        QuickSort(a, p, pivot-1)\n",
    "    if pivot+1 < q:\n",
    "        QuickSort(a, pivot+1, q)"
   ]
  },
  {
   "cell_type": "code",
   "execution_count": 36,
   "metadata": {
    "collapsed": false
   },
   "outputs": [
    {
     "name": "stdout",
     "output_type": "stream",
     "text": [
      "[1, 3, 4, 5, 7, 8, 9]\n",
      "[1, 3, 4, 7, 8, 9, 11]\n",
      "[5, 7, 8, 9]\n",
      "[7, 8, 9, 10]\n",
      "[1, 3, 7, 8, 9, 11, 16]\n",
      "[8, 9]\n",
      "[8, 9]\n"
     ]
    }
   ],
   "source": [
    "s1 = [5,9,8,3,7,1,4]\n",
    "s2 = [11,9,8,3,7,1,4]\n",
    "s3 = [8, 9, 5, 7,]\n",
    "s4 = [8, 9, 10, 7,]\n",
    "s5 = [11,9,8,3,7,1,16]\n",
    "s6 = [9, 8]\n",
    "s7 = [8, 9]\n",
    "\n",
    "ss = [s1,s2,s3,s4,s5,s6,s7]\n",
    "for s in ss:\n",
    "    QuickSort(s, 0, len(s)-1)\n",
    "    print s"
   ]
  },
  {
   "cell_type": "code",
   "execution_count": null,
   "metadata": {
    "collapsed": true
   },
   "outputs": [],
   "source": []
  }
 ],
 "metadata": {
  "kernelspec": {
   "display_name": "Python 2",
   "language": "python",
   "name": "python2"
  },
  "language_info": {
   "codemirror_mode": {
    "name": "ipython",
    "version": 2
   },
   "file_extension": ".py",
   "mimetype": "text/x-python",
   "name": "python",
   "nbconvert_exporter": "python",
   "pygments_lexer": "ipython2",
   "version": "2.7.5"
  }
 },
 "nbformat": 4,
 "nbformat_minor": 0
}
